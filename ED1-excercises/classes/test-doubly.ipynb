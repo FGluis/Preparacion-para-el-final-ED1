{
 "cells": [
  {
   "cell_type": "code",
   "execution_count": 1,
   "metadata": {},
   "outputs": [],
   "source": [
    "from DoublyCircularLinkedList import DoublyCircularLinkedList\n",
    "from Filter import Filter"
   ]
  },
  {
   "cell_type": "code",
   "execution_count": 2,
   "metadata": {},
   "outputs": [],
   "source": [
    "lista = DoublyCircularLinkedList()\n",
    "\n",
    "lista.add_multiple_nodes([37, 37, 73,  73])"
   ]
  },
  {
   "cell_type": "code",
   "execution_count": 3,
   "metadata": {},
   "outputs": [
    {
     "name": "stdout",
     "output_type": "stream",
     "text": [
      "Nodes of doubly linked list: \n",
      "(TAIL) <-> 37 <-> 37 <-> 73 <-> 73 <-> (ROOT)"
     ]
    }
   ],
   "source": [
    "lista.display()"
   ]
  },
  {
   "cell_type": "code",
   "execution_count": 4,
   "metadata": {},
   "outputs": [
    {
     "name": "stdout",
     "output_type": "stream",
     "text": [
      "Nodes of doubly linked list: \n",
      "(TAIL) <-> 37 <-> 37 <-> 73 <-> 73 <-> (ROOT)\n",
      "Nodes of doubly linked list: \n",
      "(TAIL) <-> 37 <-> 37 <-> 73 <-> 73 <-> (ROOT)\n"
     ]
    }
   ],
   "source": [
    "lista2 = DoublyCircularLinkedList()\n",
    "\n",
    "lista2.add_multiple_nodes([73, 37])\n",
    "     \n",
    "lista.display()\n",
    "print('')\n",
    "lista2.display()\n",
    "print('')\n"
   ]
  },
  {
   "cell_type": "code",
   "execution_count": 5,
   "metadata": {},
   "outputs": [
    {
     "data": {
      "text/plain": [
       "4"
      ]
     },
     "execution_count": 5,
     "metadata": {},
     "output_type": "execute_result"
    }
   ],
   "source": [
    "len(lista2)"
   ]
  },
  {
   "cell_type": "code",
   "execution_count": 6,
   "metadata": {},
   "outputs": [],
   "source": [
    "f = Filter()"
   ]
  },
  {
   "cell_type": "code",
   "execution_count": 7,
   "metadata": {},
   "outputs": [
    {
     "name": "stdout",
     "output_type": "stream",
     "text": [
      "37\n",
      "37\n",
      "73\n",
      "73\n",
      "I'm in the final 73\n"
     ]
    }
   ],
   "source": [
    "while f.find(lista, lista2)[0]:\n",
    "    f.findAndRemove(lista, lista2)"
   ]
  },
  {
   "cell_type": "code",
   "execution_count": 8,
   "metadata": {},
   "outputs": [
    {
     "name": "stdout",
     "output_type": "stream",
     "text": [
      "Nodes of doubly linked list: \n",
      "(TAIL) <-> 73 <-> (ROOT)"
     ]
    }
   ],
   "source": [
    "lista.display()"
   ]
  }
 ],
 "metadata": {
  "kernelspec": {
   "display_name": "Python 3.10.6 64-bit",
   "language": "python",
   "name": "python3"
  },
  "language_info": {
   "codemirror_mode": {
    "name": "ipython",
    "version": 3
   },
   "file_extension": ".py",
   "mimetype": "text/x-python",
   "name": "python",
   "nbconvert_exporter": "python",
   "pygments_lexer": "ipython3",
   "version": "3.10.6"
  },
  "orig_nbformat": 4,
  "vscode": {
   "interpreter": {
    "hash": "916dbcbb3f70747c44a77c7bcd40155683ae19c65e1c03b4aa3499c5328201f1"
   }
  }
 },
 "nbformat": 4,
 "nbformat_minor": 2
}
